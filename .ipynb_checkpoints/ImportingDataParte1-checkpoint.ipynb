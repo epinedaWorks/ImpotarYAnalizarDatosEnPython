{
 "cells": [
  {
   "cell_type": "markdown",
   "metadata": {},
   "source": [
    "#### Ingeniero en Sistemas: Erick J. Pineda Amézquita  \n",
    "Correo de contacto: epineda.amezquita@gmail.com  \n",
    "github: https://github.com/epinedaWorks/\n"
   ]
  },
  {
   "cell_type": "markdown",
   "metadata": {},
   "source": [
    "# Análisis de datos\n",
    "Contenido: \n",
    "+ Carga de datos csv y xls. \n",
    "+ Combinación de dataFrames\n",
    "+ Carga de hojas específicas\n",
    "+ Reemplazar valores nullos por algún string\n",
    "+ Asignar tipo de dato al dataFrame, por ejemplo tipo Fecha\n",
    "\n"
   ]
  },
  {
   "cell_type": "markdown",
   "metadata": {},
   "source": [
    "**Fuente/Origenes de datos:**  \n",
    "\n",
    "https://www.kaggle.com/sudalairajkumar/novel-corona-virus-2019-dataset  \n",
    "\n",
    "\n",
    "Archivos a utilizar:  \n",
    "\n",
    "+ COVID19_line_list_data.csv\n",
    "+ COVID19_open_line_list.csv\n",
    "+ covid_19_data.csv\n",
    "+ covid_19_Excel.xlsx\n",
    "+ ImportingDataParte1.ipynb\n",
    "+ time_series_covid_19_confirmed.csv\n",
    "+ time_series_covid_19_deaths.csv\n",
    "+ time_series_covid_19_recovered.csv"
   ]
  },
  {
   "cell_type": "markdown",
   "metadata": {},
   "source": [
    "### Leer un archivo .csv\n",
    "\n",
    "Cuando se cargan datos con la herramienta de numpy, el tipo de dato se llama \"DataFrame\". En caso se cargue un archivo completo de Excel, el tipo de dato es una Colección, la cual tiene de elementos Dataframes."
   ]
  },
  {
   "cell_type": "code",
   "execution_count": 15,
   "metadata": {},
   "outputs": [
    {
     "name": "stdout",
     "output_type": "stream",
     "text": [
      "   SNo ObservationDate Province/State  Country/Region      Last Update  \\\n",
      "0    1      01/22/2020          Anhui  Mainland China  1/22/2020 17:00   \n",
      "1    2      01/22/2020        Beijing  Mainland China  1/22/2020 17:00   \n",
      "2    3      01/22/2020      Chongqing  Mainland China  1/22/2020 17:00   \n",
      "3    4      01/22/2020         Fujian  Mainland China  1/22/2020 17:00   \n",
      "4    5      01/22/2020          Gansu  Mainland China  1/22/2020 17:00   \n",
      "5    6      01/22/2020      Guangdong  Mainland China  1/22/2020 17:00   \n",
      "6    7      01/22/2020        Guangxi  Mainland China  1/22/2020 17:00   \n",
      "7    8      01/22/2020        Guizhou  Mainland China  1/22/2020 17:00   \n",
      "8    9      01/22/2020         Hainan  Mainland China  1/22/2020 17:00   \n",
      "9   10      01/22/2020          Hebei  Mainland China  1/22/2020 17:00   \n",
      "\n",
      "   Confirmed  Deaths  Recovered  \n",
      "0        1.0     0.0        0.0  \n",
      "1       14.0     0.0        0.0  \n",
      "2        6.0     0.0        0.0  \n",
      "3        1.0     0.0        0.0  \n",
      "4        0.0     0.0        0.0  \n",
      "5       26.0     0.0        0.0  \n",
      "6        2.0     0.0        0.0  \n",
      "7        1.0     0.0        0.0  \n",
      "8        4.0     0.0        0.0  \n",
      "9        1.0     0.0        0.0  \n",
      "<class 'pandas.core.frame.DataFrame'>\n",
      "RangeIndex: 6162 entries, 0 to 6161\n",
      "Data columns (total 8 columns):\n",
      "SNo                6162 non-null int64\n",
      "ObservationDate    6162 non-null object\n",
      "Province/State     3700 non-null object\n",
      "Country/Region     6162 non-null object\n",
      "Last Update        6162 non-null object\n",
      "Confirmed          6162 non-null float64\n",
      "Deaths             6162 non-null float64\n",
      "Recovered          6162 non-null float64\n",
      "dtypes: float64(3), int64(1), object(4)\n",
      "memory usage: 385.2+ KB\n"
     ]
    }
   ],
   "source": [
    "# Import pandas library\n",
    "import pandas as pd\n",
    "\n",
    "# Import the data\n",
    "DataCovid19 = pd.read_csv('./data/covid_19_data.csv')\n",
    "\n",
    "# Display first 10 rows\n",
    "print(DataCovid19.head(10))\n",
    "\n",
    "DataCovid19.info()"
   ]
  },
  {
   "cell_type": "markdown",
   "metadata": {},
   "source": [
    "Para quitar valores no encontrados y reemplazarlos con palabras, o bien, para cambiar tipo de dato, por ejemplo el de fecha, se utlizar la función parse:"
   ]
  },
  {
   "cell_type": "code",
   "execution_count": 16,
   "metadata": {},
   "outputs": [
    {
     "name": "stdout",
     "output_type": "stream",
     "text": [
      "   SNo ObservationDate Province/State  Country/Region         Last Update  \\\n",
      "0    1      01/22/2020          Anhui  Mainland China 2020-01-22 17:00:00   \n",
      "1    2      01/22/2020        Beijing  Mainland China 2020-01-22 17:00:00   \n",
      "2    3      01/22/2020      Chongqing  Mainland China 2020-01-22 17:00:00   \n",
      "3    4      01/22/2020         Fujian  Mainland China 2020-01-22 17:00:00   \n",
      "4    5      01/22/2020          Gansu  Mainland China 2020-01-22 17:00:00   \n",
      "\n",
      "   Confirmed  Deaths  Recovered  \n",
      "0        1.0     0.0        0.0  \n",
      "1       14.0     0.0        0.0  \n",
      "2        6.0     0.0        0.0  \n",
      "3        1.0     0.0        0.0  \n",
      "4        0.0     0.0        0.0  \n",
      "<class 'pandas.core.frame.DataFrame'>\n",
      "RangeIndex: 6162 entries, 0 to 6161\n",
      "Data columns (total 8 columns):\n",
      "SNo                6162 non-null int64\n",
      "ObservationDate    6162 non-null object\n",
      "Province/State     3700 non-null object\n",
      "Country/Region     6162 non-null object\n",
      "Last Update        6162 non-null datetime64[ns]\n",
      "Confirmed          6162 non-null float64\n",
      "Deaths             6162 non-null float64\n",
      "Recovered          6162 non-null float64\n",
      "dtypes: datetime64[ns](1), float64(3), int64(1), object(3)\n",
      "memory usage: 385.2+ KB\n"
     ]
    }
   ],
   "source": [
    "# Import the data\n",
    "DataCovid19 = pd.read_csv('./data/covid_19_data.csv',na_values='NAN', parse_dates=['Last Update'])\n",
    "\n",
    "print(DataCovid19.head())\n",
    "\n",
    "DataCovid19.info()\n",
    "\n",
    "\n"
   ]
  },
  {
   "cell_type": "markdown",
   "metadata": {},
   "source": [
    "### Si en dado caso el archivo fuera de excel:\n",
    "Se puede leer de dos formas, ya sea una hoja o libro específico o todo el archivo."
   ]
  },
  {
   "cell_type": "code",
   "execution_count": 17,
   "metadata": {},
   "outputs": [
    {
     "name": "stdout",
     "output_type": "stream",
     "text": [
      "Hojas:  ['hoja-covid_19_data', 'hoja2-Datos2']\n",
      "Información: \n",
      "<class 'pandas.core.frame.DataFrame'>\n",
      "RangeIndex: 6162 entries, 0 to 6161\n",
      "Data columns (total 8 columns):\n",
      "SNo                6162 non-null int64\n",
      "ObservationDate    6162 non-null object\n",
      "Province/State     3700 non-null object\n",
      "Country/Region     6162 non-null object\n",
      "Last Update        6162 non-null object\n",
      "Confirmed          6162 non-null int64\n",
      "Deaths             6162 non-null int64\n",
      "Recovered          6162 non-null int64\n",
      "dtypes: int64(4), object(4)\n",
      "memory usage: 385.2+ KB\n",
      "\n",
      "\n",
      "<class 'pandas.core.frame.DataFrame'>\n",
      "RangeIndex: 6162 entries, 0 to 6161\n",
      "Data columns (total 8 columns):\n",
      "SNo                6162 non-null int64\n",
      "ObservationDate    6162 non-null object\n",
      "Province/State     3700 non-null object\n",
      "Country/Region     6162 non-null object\n",
      "Last Update        6162 non-null object\n",
      "Confirmed          6162 non-null int64\n",
      "Deaths             6162 non-null int64\n",
      "Recovered          6162 non-null int64\n",
      "dtypes: int64(4), object(4)\n",
      "memory usage: 385.2+ KB\n",
      "Tipo de dato de archivoCompleto:  <class 'collections.OrderedDict'>\n",
      "Tipo de dato de archivoCompleto['hoja-covid_19_data']:   <class 'pandas.core.frame.DataFrame'>\n",
      "Tipo de dato de archivoHoja1:  <class 'pandas.core.frame.DataFrame'>\n"
     ]
    }
   ],
   "source": [
    "#Cargar archivo\n",
    "path=\"./data/covid_19_Excel.xlsx\"\n",
    "xls = pd.ExcelFile(path)\n",
    "\n",
    "#obtener nombre de las hojas\n",
    "hojas = xls.sheet_names\n",
    "print(\"Hojas: \",hojas)\n",
    "\n",
    "\n",
    "## hay dos tipos de lectura:\n",
    "### por archivo completo o por hoja especifica\n",
    "\n",
    "# Leer archivo completo\n",
    "archivoCompleto= pd.read_excel(xls, sheet_name=hojas, na_values='n/a')\n",
    "print(\"Información: \")\n",
    "archivoCompleto['hoja-covid_19_data'].info()\n",
    "\n",
    "print()\n",
    "print()\n",
    "# Leer hoja específica\n",
    "archivoHoja1 = pd.read_excel(path, sheet_name='hoja-covid_19_data', na_values='n/a')\n",
    "archivoHoja1.info()\n",
    "\n",
    "print(\"Tipo de dato de archivoCompleto: \",type(archivoCompleto))\n",
    "print(\"Tipo de dato de archivoCompleto['hoja-covid_19_data']:  \",type(archivoCompleto['hoja-covid_19_data']))\n",
    "print(\"Tipo de dato de archivoHoja1: \",type(archivoHoja1))\n",
    "\n",
    "\n",
    "#DataCovid19.info()\n",
    "\n",
    "\n"
   ]
  },
  {
   "cell_type": "markdown",
   "metadata": {},
   "source": [
    "### Combinación de data frames "
   ]
  },
  {
   "cell_type": "code",
   "execution_count": 48,
   "metadata": {},
   "outputs": [
    {
     "name": "stdout",
     "output_type": "stream",
     "text": [
      "Hojas en el archivo:  ['hoja-covid_19_data', 'hoja2-Datos2']\n",
      "Lineas de hoja1:  6162\n",
      "Type:  <class 'pandas.core.frame.DataFrame'>\n",
      "Shape:  (12324, 8)\n"
     ]
    }
   ],
   "source": [
    "print(\"Hojas en el archivo: \",hojas)\n",
    "\n",
    "cantidadLineas= archivoCompleto['hoja-covid_19_data'].shape[0]\n",
    "print(\"Lineas de hoja1: \",cantidadLineas )\n",
    "dataFrameCombinado = pd.concat([archivoCompleto['hoja-covid_19_data'], archivoCompleto['hoja2-Datos2']]) \n",
    "print(\"Type: \",type(dataFrameCombinado))\n",
    "print(\"Shape: \",dataFrameCombinado.shape)\n",
    "\n"
   ]
  },
  {
   "cell_type": "markdown",
   "metadata": {},
   "source": [
    "### Agregar una columna a cada DataFrame\n",
    "Puede servir para conocer el origen de cada DF, es decir, de qué archivo se cargó.  \n",
    "En el ejemplo se toma el mismo archivo de ejemplo, pero se hace para efectos prácticos.\n"
   ]
  },
  {
   "cell_type": "code",
   "execution_count": 55,
   "metadata": {},
   "outputs": [
    {
     "data": {
      "text/html": [
       "<div>\n",
       "<style scoped>\n",
       "    .dataframe tbody tr th:only-of-type {\n",
       "        vertical-align: middle;\n",
       "    }\n",
       "\n",
       "    .dataframe tbody tr th {\n",
       "        vertical-align: top;\n",
       "    }\n",
       "\n",
       "    .dataframe thead th {\n",
       "        text-align: right;\n",
       "    }\n",
       "</style>\n",
       "<table border=\"1\" class=\"dataframe\">\n",
       "  <thead>\n",
       "    <tr style=\"text-align: right;\">\n",
       "      <th></th>\n",
       "      <th>SNo</th>\n",
       "      <th>ObservationDate</th>\n",
       "      <th>Province/State</th>\n",
       "      <th>Country/Region</th>\n",
       "      <th>Last Update</th>\n",
       "      <th>Confirmed</th>\n",
       "      <th>Deaths</th>\n",
       "      <th>Recovered</th>\n",
       "    </tr>\n",
       "  </thead>\n",
       "  <tbody>\n",
       "    <tr>\n",
       "      <th>0</th>\n",
       "      <td>1</td>\n",
       "      <td>01/22/2020</td>\n",
       "      <td>Anhui</td>\n",
       "      <td>Mainland China</td>\n",
       "      <td>1/22/2020 17:00</td>\n",
       "      <td>1</td>\n",
       "      <td>0</td>\n",
       "      <td>0</td>\n",
       "    </tr>\n",
       "    <tr>\n",
       "      <th>1</th>\n",
       "      <td>2</td>\n",
       "      <td>01/22/2020</td>\n",
       "      <td>Beijing</td>\n",
       "      <td>Mainland China</td>\n",
       "      <td>1/22/2020 17:00</td>\n",
       "      <td>14</td>\n",
       "      <td>0</td>\n",
       "      <td>0</td>\n",
       "    </tr>\n",
       "  </tbody>\n",
       "</table>\n",
       "</div>"
      ],
      "text/plain": [
       "   SNo ObservationDate Province/State  Country/Region      Last Update  \\\n",
       "0    1      01/22/2020          Anhui  Mainland China  1/22/2020 17:00   \n",
       "1    2      01/22/2020        Beijing  Mainland China  1/22/2020 17:00   \n",
       "\n",
       "   Confirmed  Deaths  Recovered  \n",
       "0          1       0          0  \n",
       "1         14       0          0  "
      ]
     },
     "execution_count": 55,
     "metadata": {},
     "output_type": "execute_result"
    }
   ],
   "source": [
    "dfHoja1 = pd.read_excel(path, sheet_name='hoja-covid_19_data', na_values='n/a')\n",
    "dfHoja2= pd.read_excel(path, sheet_name='hoja-covid_19_data', na_values='n/a')\n",
    "\n",
    "dfHoja1.head(2)"
   ]
  },
  {
   "cell_type": "markdown",
   "metadata": {},
   "source": [
    "Observar la ultima columna, en la cual se agregará la referencia"
   ]
  },
  {
   "cell_type": "code",
   "execution_count": 58,
   "metadata": {},
   "outputs": [
    {
     "data": {
      "text/html": [
       "<div>\n",
       "<style scoped>\n",
       "    .dataframe tbody tr th:only-of-type {\n",
       "        vertical-align: middle;\n",
       "    }\n",
       "\n",
       "    .dataframe tbody tr th {\n",
       "        vertical-align: top;\n",
       "    }\n",
       "\n",
       "    .dataframe thead th {\n",
       "        text-align: right;\n",
       "    }\n",
       "</style>\n",
       "<table border=\"1\" class=\"dataframe\">\n",
       "  <thead>\n",
       "    <tr style=\"text-align: right;\">\n",
       "      <th></th>\n",
       "      <th>SNo</th>\n",
       "      <th>ObservationDate</th>\n",
       "      <th>Province/State</th>\n",
       "      <th>Country/Region</th>\n",
       "      <th>Last Update</th>\n",
       "      <th>Confirmed</th>\n",
       "      <th>Deaths</th>\n",
       "      <th>Recovered</th>\n",
       "      <th>Origen</th>\n",
       "    </tr>\n",
       "  </thead>\n",
       "  <tbody>\n",
       "    <tr>\n",
       "      <th>0</th>\n",
       "      <td>1</td>\n",
       "      <td>01/22/2020</td>\n",
       "      <td>Anhui</td>\n",
       "      <td>Mainland China</td>\n",
       "      <td>1/22/2020 17:00</td>\n",
       "      <td>1</td>\n",
       "      <td>0</td>\n",
       "      <td>0</td>\n",
       "      <td>ArchivoWeb</td>\n",
       "    </tr>\n",
       "    <tr>\n",
       "      <th>1</th>\n",
       "      <td>2</td>\n",
       "      <td>01/22/2020</td>\n",
       "      <td>Beijing</td>\n",
       "      <td>Mainland China</td>\n",
       "      <td>1/22/2020 17:00</td>\n",
       "      <td>14</td>\n",
       "      <td>0</td>\n",
       "      <td>0</td>\n",
       "      <td>ArchivoWeb</td>\n",
       "    </tr>\n",
       "  </tbody>\n",
       "</table>\n",
       "</div>"
      ],
      "text/plain": [
       "   SNo ObservationDate Province/State  Country/Region      Last Update  \\\n",
       "0    1      01/22/2020          Anhui  Mainland China  1/22/2020 17:00   \n",
       "1    2      01/22/2020        Beijing  Mainland China  1/22/2020 17:00   \n",
       "\n",
       "   Confirmed  Deaths  Recovered      Origen  \n",
       "0          1       0          0  ArchivoWeb  \n",
       "1         14       0          0  ArchivoWeb  "
      ]
     },
     "execution_count": 58,
     "metadata": {},
     "output_type": "execute_result"
    }
   ],
   "source": [
    "dfHoja1[\"Origen\"] = \"ArchivoWeb\"\n",
    "dfHoja2[\"Origen\"] = \"ArchivoBaseDatos\"\n",
    "dfHoja1.head(2)\n"
   ]
  },
  {
   "cell_type": "code",
   "execution_count": 59,
   "metadata": {},
   "outputs": [
    {
     "data": {
      "text/html": [
       "<div>\n",
       "<style scoped>\n",
       "    .dataframe tbody tr th:only-of-type {\n",
       "        vertical-align: middle;\n",
       "    }\n",
       "\n",
       "    .dataframe tbody tr th {\n",
       "        vertical-align: top;\n",
       "    }\n",
       "\n",
       "    .dataframe thead th {\n",
       "        text-align: right;\n",
       "    }\n",
       "</style>\n",
       "<table border=\"1\" class=\"dataframe\">\n",
       "  <thead>\n",
       "    <tr style=\"text-align: right;\">\n",
       "      <th></th>\n",
       "      <th>SNo</th>\n",
       "      <th>ObservationDate</th>\n",
       "      <th>Province/State</th>\n",
       "      <th>Country/Region</th>\n",
       "      <th>Last Update</th>\n",
       "      <th>Confirmed</th>\n",
       "      <th>Deaths</th>\n",
       "      <th>Recovered</th>\n",
       "      <th>Origen</th>\n",
       "    </tr>\n",
       "  </thead>\n",
       "  <tbody>\n",
       "    <tr>\n",
       "      <th>0</th>\n",
       "      <td>1</td>\n",
       "      <td>01/22/2020</td>\n",
       "      <td>Anhui</td>\n",
       "      <td>Mainland China</td>\n",
       "      <td>1/22/2020 17:00</td>\n",
       "      <td>1</td>\n",
       "      <td>0</td>\n",
       "      <td>0</td>\n",
       "      <td>ArchivoBaseDatos</td>\n",
       "    </tr>\n",
       "    <tr>\n",
       "      <th>1</th>\n",
       "      <td>2</td>\n",
       "      <td>01/22/2020</td>\n",
       "      <td>Beijing</td>\n",
       "      <td>Mainland China</td>\n",
       "      <td>1/22/2020 17:00</td>\n",
       "      <td>14</td>\n",
       "      <td>0</td>\n",
       "      <td>0</td>\n",
       "      <td>ArchivoBaseDatos</td>\n",
       "    </tr>\n",
       "  </tbody>\n",
       "</table>\n",
       "</div>"
      ],
      "text/plain": [
       "   SNo ObservationDate Province/State  Country/Region      Last Update  \\\n",
       "0    1      01/22/2020          Anhui  Mainland China  1/22/2020 17:00   \n",
       "1    2      01/22/2020        Beijing  Mainland China  1/22/2020 17:00   \n",
       "\n",
       "   Confirmed  Deaths  Recovered            Origen  \n",
       "0          1       0          0  ArchivoBaseDatos  \n",
       "1         14       0          0  ArchivoBaseDatos  "
      ]
     },
     "execution_count": 59,
     "metadata": {},
     "output_type": "execute_result"
    }
   ],
   "source": [
    "dfHoja2.head(2)"
   ]
  },
  {
   "cell_type": "code",
   "execution_count": null,
   "metadata": {},
   "outputs": [],
   "source": []
  }
 ],
 "metadata": {
  "kernelspec": {
   "display_name": "Python 3",
   "language": "python",
   "name": "python3"
  },
  "language_info": {
   "codemirror_mode": {
    "name": "ipython",
    "version": 3
   },
   "file_extension": ".py",
   "mimetype": "text/x-python",
   "name": "python",
   "nbconvert_exporter": "python",
   "pygments_lexer": "ipython3",
   "version": "3.7.1"
  }
 },
 "nbformat": 4,
 "nbformat_minor": 2
}
