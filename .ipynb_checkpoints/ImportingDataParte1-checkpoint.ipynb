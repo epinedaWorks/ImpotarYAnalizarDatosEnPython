{
 "cells": [
  {
   "cell_type": "markdown",
   "metadata": {},
   "source": [
    "#### Ingeniero en Sistemas: Erick J. Pineda Amézquita  \n",
    "Correo de contacto: epineda.amezquita@gmail.com  \n",
    "github: https://github.com/epinedaWorks/\n"
   ]
  },
  {
   "cell_type": "markdown",
   "metadata": {},
   "source": [
    "Fuente de datos:  \n",
    "https://www.kaggle.com/sudalairajkumar/novel-corona-virus-2019-dataset  \n",
    "\n",
    "Importar datos, archivos a utilizar:  \n",
    "\n",
    "+ COVID19_line_list_data.csv\n",
    "+ COVID19_open_line_list.csv\n",
    "+ covid_19_data.csv\n",
    "+ ImportingDataParte1.ipynb\n",
    "+ time_series_covid_19_confirmed.csv\n",
    "+ time_series_covid_19_deaths.csv\n",
    "+ time_series_covid_19_recovered.csv"
   ]
  },
  {
   "cell_type": "code",
   "execution_count": 1,
   "metadata": {},
   "outputs": [
    {
     "name": "stdout",
     "output_type": "stream",
     "text": [
      "   SNo ObservationDate Province/State  Country/Region      Last Update  \\\n",
      "0    1      01/22/2020          Anhui  Mainland China  1/22/2020 17:00   \n",
      "1    2      01/22/2020        Beijing  Mainland China  1/22/2020 17:00   \n",
      "2    3      01/22/2020      Chongqing  Mainland China  1/22/2020 17:00   \n",
      "3    4      01/22/2020         Fujian  Mainland China  1/22/2020 17:00   \n",
      "4    5      01/22/2020          Gansu  Mainland China  1/22/2020 17:00   \n",
      "5    6      01/22/2020      Guangdong  Mainland China  1/22/2020 17:00   \n",
      "6    7      01/22/2020        Guangxi  Mainland China  1/22/2020 17:00   \n",
      "7    8      01/22/2020        Guizhou  Mainland China  1/22/2020 17:00   \n",
      "8    9      01/22/2020         Hainan  Mainland China  1/22/2020 17:00   \n",
      "9   10      01/22/2020          Hebei  Mainland China  1/22/2020 17:00   \n",
      "\n",
      "   Confirmed  Deaths  Recovered  \n",
      "0        1.0     0.0        0.0  \n",
      "1       14.0     0.0        0.0  \n",
      "2        6.0     0.0        0.0  \n",
      "3        1.0     0.0        0.0  \n",
      "4        0.0     0.0        0.0  \n",
      "5       26.0     0.0        0.0  \n",
      "6        2.0     0.0        0.0  \n",
      "7        1.0     0.0        0.0  \n",
      "8        4.0     0.0        0.0  \n",
      "9        1.0     0.0        0.0  \n",
      "<class 'pandas.core.frame.DataFrame'>\n",
      "RangeIndex: 6162 entries, 0 to 6161\n",
      "Data columns (total 8 columns):\n",
      "SNo                6162 non-null int64\n",
      "ObservationDate    6162 non-null object\n",
      "Province/State     3700 non-null object\n",
      "Country/Region     6162 non-null object\n",
      "Last Update        6162 non-null object\n",
      "Confirmed          6162 non-null float64\n",
      "Deaths             6162 non-null float64\n",
      "Recovered          6162 non-null float64\n",
      "dtypes: float64(3), int64(1), object(4)\n",
      "memory usage: 385.2+ KB\n"
     ]
    }
   ],
   "source": [
    "# Import pandas library\n",
    "import pandas as pd\n",
    "\n",
    "# Import the data\n",
    "DataCovid19 = pd.read_csv('covid_19_data.csv')\n",
    "\n",
    "# Display first 10 rows\n",
    "print(DataCovid19.head(10))\n",
    "\n",
    "DataCovid19.info()"
   ]
  },
  {
   "cell_type": "markdown",
   "metadata": {},
   "source": [
    "Para quitar valores no encontrados y reemplazarlos con palabras, o bien, para cambiar tipo de dato, por ejemplo el de fecha, se utlizar la función parse:"
   ]
  },
  {
   "cell_type": "code",
   "execution_count": 2,
   "metadata": {},
   "outputs": [
    {
     "name": "stdout",
     "output_type": "stream",
     "text": [
      "   SNo ObservationDate Province/State  Country/Region         Last Update  \\\n",
      "0    1      01/22/2020          Anhui  Mainland China 2020-01-22 17:00:00   \n",
      "1    2      01/22/2020        Beijing  Mainland China 2020-01-22 17:00:00   \n",
      "2    3      01/22/2020      Chongqing  Mainland China 2020-01-22 17:00:00   \n",
      "3    4      01/22/2020         Fujian  Mainland China 2020-01-22 17:00:00   \n",
      "4    5      01/22/2020          Gansu  Mainland China 2020-01-22 17:00:00   \n",
      "\n",
      "   Confirmed  Deaths  Recovered  \n",
      "0        1.0     0.0        0.0  \n",
      "1       14.0     0.0        0.0  \n",
      "2        6.0     0.0        0.0  \n",
      "3        1.0     0.0        0.0  \n",
      "4        0.0     0.0        0.0  \n",
      "<class 'pandas.core.frame.DataFrame'>\n",
      "RangeIndex: 6162 entries, 0 to 6161\n",
      "Data columns (total 8 columns):\n",
      "SNo                6162 non-null int64\n",
      "ObservationDate    6162 non-null object\n",
      "Province/State     3700 non-null object\n",
      "Country/Region     6162 non-null object\n",
      "Last Update        6162 non-null datetime64[ns]\n",
      "Confirmed          6162 non-null float64\n",
      "Deaths             6162 non-null float64\n",
      "Recovered          6162 non-null float64\n",
      "dtypes: datetime64[ns](1), float64(3), int64(1), object(3)\n",
      "memory usage: 385.2+ KB\n"
     ]
    }
   ],
   "source": [
    "# Import the data\n",
    "DataCovid19 = pd.read_csv('covid_19_data.csv',na_values='NAN', parse_dates=['Last Update'])\n",
    "\n",
    "print(DataCovid19.head())\n",
    "\n",
    "DataCovid19.info()\n",
    "\n",
    "\n"
   ]
  },
  {
   "cell_type": "code",
   "execution_count": null,
   "metadata": {},
   "outputs": [],
   "source": []
  }
 ],
 "metadata": {
  "kernelspec": {
   "display_name": "Python 3",
   "language": "python",
   "name": "python3"
  },
  "language_info": {
   "codemirror_mode": {
    "name": "ipython",
    "version": 3
   },
   "file_extension": ".py",
   "mimetype": "text/x-python",
   "name": "python",
   "nbconvert_exporter": "python",
   "pygments_lexer": "ipython3",
   "version": "3.7.1"
  }
 },
 "nbformat": 4,
 "nbformat_minor": 2
}
